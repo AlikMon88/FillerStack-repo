{
 "cells": [
  {
   "cell_type": "markdown",
   "metadata": {},
   "source": [
    "All the given data after parsing & pre-processing are saved (here only BTC) then loaded again, as this notebook is aimed at analysing performance of Basic DeepLearning Models "
   ]
  },
  {
   "cell_type": "code",
   "execution_count": 22,
   "metadata": {
    "_cell_guid": "b1076dfc-b9ad-4769-8c92-a6c4dae69d19",
    "_uuid": "8f2839f25d086af736a60e9eeb907d3b93b6e0e5",
    "execution": {
     "iopub.execute_input": "2022-02-03T20:23:01.522569Z",
     "iopub.status.busy": "2022-02-03T20:23:01.522236Z",
     "iopub.status.idle": "2022-02-03T20:24:02.344819Z",
     "shell.execute_reply": "2022-02-03T20:24:02.343871Z",
     "shell.execute_reply.started": "2022-02-03T20:23:01.522534Z"
    }
   },
   "outputs": [],
   "source": [
    "import pandas as pd\n",
    "\n",
    "'''\n",
    "Basically the training_dataset contains ~3.8 years of data points for each asset\n",
    "The one I was considering at first (For BTC alone) contains ~25 days of data (out of which model learns by looking at past 12 hours and predict at a delay of 15 mins into the future)    \n",
    "'''\n",
    "\n",
    "\n",
    "df_asset_details = pd.read_csv('../input/c/g-research-crypto-forecasting/asset_details.csv')\n",
    "print('df_asset_details: ',df_asset_details.shape)\n",
    "df_sub_sample = pd.read_csv('../input/c/g-research-crypto-forecasting/example_sample_submission.csv')\n",
    "print('sub_sample: ',df_sub_sample.shape)\n",
    "df_sup_train = pd.read_csv('../input/c/g-research-crypto-forecasting/supplemental_train.csv').iloc[-5000000:]\n",
    "print('sup_train: ',df_sup_train.shape)\n",
    "df_train = pd.read_csv('../input/c/g-research-crypto-forecasting/train.csv').iloc[-5000000:]\n",
    "print('train_shape: ', df_train.shape)"
   ]
  },
  {
   "cell_type": "code",
   "execution_count": 23,
   "metadata": {
    "execution": {
     "iopub.execute_input": "2022-02-03T20:24:02.347197Z",
     "iopub.status.busy": "2022-02-03T20:24:02.346808Z",
     "iopub.status.idle": "2022-02-03T20:24:02.356104Z",
     "shell.execute_reply": "2022-02-03T20:24:02.355464Z",
     "shell.execute_reply.started": "2022-02-03T20:24:02.347125Z"
    }
   },
   "outputs": [],
   "source": [
    "print('Train_set_time_entry_range: ',df_train['timestamp'].iloc[0], ' - ', df_train['timestamp'].iloc[-1])\n",
    "print()\n",
    "print('Supplemetary_train_set_time_entry_range: ', df_sup_train['timestamp'].iloc[0], ' - ', df_sup_train['timestamp'].iloc[-1])"
   ]
  },
  {
   "cell_type": "code",
   "execution_count": 24,
   "metadata": {
    "execution": {
     "iopub.execute_input": "2022-02-03T20:24:02.357725Z",
     "iopub.status.busy": "2022-02-03T20:24:02.357109Z",
     "iopub.status.idle": "2022-02-03T20:24:27.640214Z",
     "shell.execute_reply": "2022-02-03T20:24:27.639162Z",
     "shell.execute_reply.started": "2022-02-03T20:24:02.357691Z"
    }
   },
   "outputs": [],
   "source": [
    "df_temp = pd.concat([df_train, df_sup_train], axis = 0 )\n",
    "print('df_temp_before: ', df_temp.shape)\n",
    "df_temp = df_temp.drop_duplicates()\n",
    "print('df_temp_after: ', df_temp.shape)"
   ]
  },
  {
   "cell_type": "code",
   "execution_count": 25,
   "metadata": {
    "execution": {
     "iopub.execute_input": "2022-02-03T20:24:27.642559Z",
     "iopub.status.busy": "2022-02-03T20:24:27.642309Z",
     "iopub.status.idle": "2022-02-03T20:24:28.348877Z",
     "shell.execute_reply": "2022-02-03T20:24:28.348043Z",
     "shell.execute_reply.started": "2022-02-03T20:24:27.642530Z"
    }
   },
   "outputs": [],
   "source": [
    "df_temp.sort_values('timestamp')\n",
    "print('Train/Sup_set_time_entry_range: ',df_temp['timestamp'].iloc[0], ' - ', df_temp['timestamp'].iloc[-1])\n",
    "print()\n",
    "print(df_temp['timestamp'].value_counts())"
   ]
  },
  {
   "cell_type": "markdown",
   "metadata": {},
   "source": [
    "### Visualizaton (~ Raw)"
   ]
  },
  {
   "cell_type": "code",
   "execution_count": 26,
   "metadata": {
    "execution": {
     "iopub.execute_input": "2022-02-03T20:24:28.350382Z",
     "iopub.status.busy": "2022-02-03T20:24:28.350151Z",
     "iopub.status.idle": "2022-02-03T20:24:34.144376Z",
     "shell.execute_reply": "2022-02-03T20:24:34.143526Z",
     "shell.execute_reply.started": "2022-02-03T20:24:28.350356Z"
    }
   },
   "outputs": [],
   "source": [
    "import seaborn as sns\n",
    "import matplotlib.pyplot as plt\n",
    "\n",
    "sns.set_style('darkgrid')\n",
    "\n",
    "fig, axs = plt.subplots(1,1, figsize=(16,12), dpi = 80)\n",
    "\n",
    "sns.histplot(data = df_temp.Asset_ID, color='black', discrete=True, ax = axs, stat = 'density', kde=False)\n",
    "plt.legend()\n",
    "\n",
    "plt.tight_layout(pad=2)\n",
    "plt.show()"
   ]
  },
  {
   "cell_type": "code",
   "execution_count": 27,
   "metadata": {
    "execution": {
     "iopub.execute_input": "2022-02-03T20:24:34.145923Z",
     "iopub.status.busy": "2022-02-03T20:24:34.145693Z",
     "iopub.status.idle": "2022-02-03T20:24:34.152448Z",
     "shell.execute_reply": "2022-02-03T20:24:34.151453Z",
     "shell.execute_reply.started": "2022-02-03T20:24:34.145898Z"
    }
   },
   "outputs": [],
   "source": [
    "'''\n",
    "timestamp - A timestamp for the minute covered by the row.\n",
    "Asset_ID - An ID code for the cryptoasset.\n",
    "Count - The number of trades that took place this minute.\n",
    "Open - The USD price at the beginning of the minute.\n",
    "High - The highest USD price during the minute.\n",
    "Low - The lowest USD price during the minute.\n",
    "Close - The USD price at the end of the minute.\n",
    "Volume - The number of cryptoasset units traded during the minute.\n",
    "VWAP - The volume weighted average price for the minute.\n",
    "Target - Residual log-return over 15 minute time-data. See the 'Prediction and Evaluation' section of this notebook for details of how the target is calculated.\n",
    "'''\n",
    "print('Done!')"
   ]
  },
  {
   "cell_type": "code",
   "execution_count": 28,
   "metadata": {
    "execution": {
     "iopub.execute_input": "2022-02-03T20:24:34.154854Z",
     "iopub.status.busy": "2022-02-03T20:24:34.153952Z",
     "iopub.status.idle": "2022-02-03T20:24:34.344789Z",
     "shell.execute_reply": "2022-02-03T20:24:34.343839Z",
     "shell.execute_reply.started": "2022-02-03T20:24:34.154811Z"
    }
   },
   "outputs": [],
   "source": [
    "from IPython.display import display\n",
    "print('Asset_Details: ')\n",
    "print()\n",
    "display(df_asset_details.head())\n",
    "print('Sample_Submission: ')\n",
    "print()\n",
    "display(df_sub_sample.head())\n",
    "print('Supplementary_train_samples: ')\n",
    "print()\n",
    "display(df_sup_train.head())\n",
    "print('Train_samples: ')\n",
    "print()\n",
    "display(df_train.head())\n",
    "print('--'*20)\n",
    "asset_info = df_sup_train.groupby('Asset_ID')['timestamp'].agg('count')\n",
    "print(asset_info)\n",
    "print('--'*20)\n",
    "print(df_train.info())\n",
    "print('--'*20)\n",
    "print(df_train.isnull().sum())"
   ]
  },
  {
   "cell_type": "code",
   "execution_count": 29,
   "metadata": {
    "execution": {
     "iopub.execute_input": "2022-02-03T20:24:34.346326Z",
     "iopub.status.busy": "2022-02-03T20:24:34.346005Z",
     "iopub.status.idle": "2022-02-03T20:24:37.733291Z",
     "shell.execute_reply": "2022-02-03T20:24:37.732431Z",
     "shell.execute_reply.started": "2022-02-03T20:24:34.346294Z"
    }
   },
   "outputs": [],
   "source": [
    "import gc\n",
    "del df_train\n",
    "gc.collect()\n",
    "df_train = df_temp[:]\n",
    "asset_info = df_train.groupby('Asset_ID')['timestamp']\n",
    "print(asset_info.agg('value_counts'))\n",
    "asset_info_time = asset_info.agg('unique')\n"
   ]
  },
  {
   "cell_type": "code",
   "execution_count": 30,
   "metadata": {
    "execution": {
     "iopub.execute_input": "2022-02-03T20:24:37.734682Z",
     "iopub.status.busy": "2022-02-03T20:24:37.734470Z",
     "iopub.status.idle": "2022-02-03T20:24:37.745502Z",
     "shell.execute_reply": "2022-02-03T20:24:37.743659Z",
     "shell.execute_reply.started": "2022-02-03T20:24:37.734657Z"
    }
   },
   "outputs": [],
   "source": [
    "from pprint import pprint\n",
    "inv_asset_dict = { key:value for key, value in zip(df_asset_details['Asset_ID'],df_asset_details['Asset_Name'])}\n",
    "pprint(inv_asset_dict)\n",
    "\n",
    "asset_name = list(inv_asset_dict)\n",
    "print('num_assets: ', len(asset_name))\n"
   ]
  },
  {
   "cell_type": "code",
   "execution_count": 31,
   "metadata": {
    "execution": {
     "iopub.execute_input": "2022-02-03T20:24:37.748317Z",
     "iopub.status.busy": "2022-02-03T20:24:37.748105Z",
     "iopub.status.idle": "2022-02-03T20:24:44.393769Z",
     "shell.execute_reply": "2022-02-03T20:24:44.392976Z",
     "shell.execute_reply.started": "2022-02-03T20:24:37.748293Z"
    }
   },
   "outputs": [],
   "source": [
    "asset_info_open = df_train.groupby('Asset_ID')['Open']\n",
    "asset_info_open = asset_info_open.agg(lambda x: list(x)) ## using anonymous function to form a list of all gropued \n",
    "asset_info_close = df_train.groupby('Asset_ID')['Close']\n",
    "asset_info_close = asset_info_close.agg(lambda x: list(x)) ## using anonymous function to form a list of all gropued \n",
    "asset_info_high = df_train.groupby('Asset_ID')['High']\n",
    "asset_info_high = asset_info_high.agg(lambda x: list(x)) ## using anonymous function to form a list of all gropued \n",
    "asset_info_low = df_train.groupby('Asset_ID')['Low']\n",
    "asset_info_low = asset_info_low.agg(lambda x: list(x)) ## using anonymous function to form a list of all gropued \n",
    "\n",
    "## Asset_IDs\n",
    "print(asset_info_open.head())\n",
    "print()\n",
    "print(asset_info_close.head())\n",
    "print()\n",
    "print(asset_info_high.head())\n",
    "print()\n",
    "print(asset_info_low.head())\n"
   ]
  },
  {
   "cell_type": "code",
   "execution_count": 32,
   "metadata": {
    "execution": {
     "iopub.execute_input": "2022-02-03T20:24:44.395251Z",
     "iopub.status.busy": "2022-02-03T20:24:44.395051Z",
     "iopub.status.idle": "2022-02-03T20:24:50.772932Z",
     "shell.execute_reply": "2022-02-03T20:24:50.772073Z",
     "shell.execute_reply.started": "2022-02-03T20:24:44.395227Z"
    }
   },
   "outputs": [],
   "source": [
    "#'''## EDA\n",
    "import seaborn as sns\n",
    "import matplotlib.pyplot as plt\n",
    "\n",
    "print('**'*20,'1000 mins | 16.66 hrs data_represented', '**'*20)\n",
    "print()\n",
    "sns.set_style('darkgrid')\n",
    "fig, axs = plt.subplots(7,2, figsize=(16,14))\n",
    "step = 0\n",
    "for i in range(2):\n",
    "    for j in range(7):\n",
    "        axs[j,i].set_title(inv_asset_dict.get(step))\n",
    "        axs[j,i].scatter(asset_info_time[step][:1000],asset_info_open[step][:1000], color='red', marker='.', label = 'Open')\n",
    "        axs[j,i].scatter(asset_info_time[step][:1000],asset_info_close[step][:1000], color = 'yellow', alpha = 0.2, marker='.', label='Close')\n",
    "        axs[j,i].legend()\n",
    "        axs[j,i].set_xlabel('time')\n",
    "        axs[j,i].set_ylabel('Open/Close Price')\n",
    "        step+=1\n",
    "\n",
    "plt.tight_layout(pad=2)\n",
    "#'''\n",
    "print('Done!')"
   ]
  },
  {
   "cell_type": "code",
   "execution_count": 33,
   "metadata": {
    "execution": {
     "iopub.execute_input": "2022-02-03T20:24:50.774615Z",
     "iopub.status.busy": "2022-02-03T20:24:50.774331Z",
     "iopub.status.idle": "2022-02-03T20:24:55.427786Z",
     "shell.execute_reply": "2022-02-03T20:24:55.426792Z",
     "shell.execute_reply.started": "2022-02-03T20:24:50.774580Z"
    }
   },
   "outputs": [],
   "source": [
    "#'''\n",
    "print('**'*20,'1000 mins | 16.66 hrs data_represented', '**'*20)\n",
    "print()\n",
    "sns.set_style('darkgrid')\n",
    "fig, axs = plt.subplots(7,2, figsize=(16,14))\n",
    "step = 0\n",
    "for i in range(2):\n",
    "    for j in range(7):\n",
    "        axs[j,i].set_title(inv_asset_dict.get(step))\n",
    "        axs[j,i].plot(asset_info_time[step][:1000],asset_info_high[step][:1000], ',b' ,label = 'High')\n",
    "        axs[j,i].plot(asset_info_time[step][:1000],asset_info_low[step][:1000], ',r',label='Low')\n",
    "        axs[j,i].legend()\n",
    "        step+=1\n",
    "plt.tight_layout(pad=2)#'''\n",
    "\n",
    "print('Done!')"
   ]
  },
  {
   "cell_type": "code",
   "execution_count": 34,
   "metadata": {
    "execution": {
     "iopub.execute_input": "2022-02-03T20:24:55.429677Z",
     "iopub.status.busy": "2022-02-03T20:24:55.429042Z",
     "iopub.status.idle": "2022-02-03T20:24:58.758769Z",
     "shell.execute_reply": "2022-02-03T20:24:58.757712Z",
     "shell.execute_reply.started": "2022-02-03T20:24:55.429645Z"
    }
   },
   "outputs": [],
   "source": [
    "asset_info_count = df_train.groupby('Asset_ID')['Count']\n",
    "asset_info_count = asset_info_count.agg(lambda x: list(x))\n",
    "asset_info_vol = df_train.groupby('Asset_ID')['Volume']\n",
    "asset_info_vol = asset_info_vol.agg(lambda x: list(x)) \n",
    "\n",
    "print(asset_info_count.head())\n",
    "print()\n",
    "print(asset_info_vol.head())"
   ]
  },
  {
   "cell_type": "code",
   "execution_count": 35,
   "metadata": {
    "execution": {
     "iopub.execute_input": "2022-02-03T20:24:58.760794Z",
     "iopub.status.busy": "2022-02-03T20:24:58.760385Z",
     "iopub.status.idle": "2022-02-03T20:26:19.537859Z",
     "shell.execute_reply": "2022-02-03T20:26:19.537289Z",
     "shell.execute_reply.started": "2022-02-03T20:24:58.760746Z"
    }
   },
   "outputs": [],
   "source": [
    "#'''\n",
    "print()\n",
    "print('**'*20,'|| Trades/Transactions per minute ||', '**'*20)\n",
    "print()\n",
    "sns.set_style('darkgrid')\n",
    "fig, axs = plt.subplots(7,2, figsize=(20,18))\n",
    "step = 0\n",
    "for i in range(2):\n",
    "    for j in range(7):\n",
    "        axs[j,i].set_title(inv_asset_dict.get(step))\n",
    "        axs[j,i].bar(asset_info_time[step][:1000],asset_info_count[step][:1000], edgecolor = 'black')\n",
    "        axs[j,i].set_xlabel('timestamps')\n",
    "        axs[j,i].set_ylabel('Trade_Count')\n",
    "        step+=1\n",
    "plt.tight_layout(pad=2)\n",
    "plt.show()\n",
    "print()\n",
    "print('**'*20,'|| Volume per minute ||', '**'*20)\n",
    "print()\n",
    "fig, axs = plt.subplots(7,2, figsize=(20,18))\n",
    "step = 0\n",
    "for i in range(2):\n",
    "    for j in range(7):\n",
    "        axs[j,i].set_title(inv_asset_dict.get(step))\n",
    "        axs[j,i].bar(asset_info_time[step][:1000],asset_info_vol[step][:1000], edgecolor = 'black')\n",
    "        axs[j,i].set_xlabel('timestamps')\n",
    "        axs[j,i].set_ylabel('Volume')\n",
    "        step+=1\n",
    "plt.tight_layout(pad=2)\n",
    "plt.show()\n",
    "#'''\n",
    "print('Done!')"
   ]
  },
  {
   "cell_type": "code",
   "execution_count": 36,
   "metadata": {
    "execution": {
     "iopub.execute_input": "2022-02-03T20:26:19.539350Z",
     "iopub.status.busy": "2022-02-03T20:26:19.539110Z",
     "iopub.status.idle": "2022-02-03T20:26:21.588694Z",
     "shell.execute_reply": "2022-02-03T20:26:21.587762Z",
     "shell.execute_reply.started": "2022-02-03T20:26:19.539325Z"
    }
   },
   "outputs": [],
   "source": [
    "asset_info_targ = df_train.groupby('Asset_ID')['Target']\n",
    "asset_info_targ = asset_info_targ.agg(lambda x: list(x)) \n",
    "\n",
    "print(asset_info_targ.head())\n",
    "asset_dict = {value:key for key, value in inv_asset_dict.items()}"
   ]
  },
  {
   "cell_type": "code",
   "execution_count": 37,
   "metadata": {
    "execution": {
     "iopub.execute_input": "2022-02-03T20:26:21.590728Z",
     "iopub.status.busy": "2022-02-03T20:26:21.590396Z",
     "iopub.status.idle": "2022-02-03T20:26:22.311197Z",
     "shell.execute_reply": "2022-02-03T20:26:22.310329Z",
     "shell.execute_reply.started": "2022-02-03T20:26:21.590688Z"
    }
   },
   "outputs": [],
   "source": [
    "#'''\n",
    "import random\n",
    "print()\n",
    "print('**'*20,'|| Residualised Return per minute ||', '**'*20)\n",
    "print()\n",
    "\n",
    "colors = ['cyan','green','red','blue','gold','red','black','orange','magenta','deeppink','lime','slategray','yellow','darkviolet'] ## all possible colors \n",
    "name_plot = ['Bitcoin', 'Ethereum', 'Dogecoin']\n",
    "\n",
    "\n",
    "fig, axs = plt.subplots(1,1, figsize=(18,14))\n",
    "#axs[0].set_title(inv_asset_dict.get(step))\n",
    "for name in name_plot:\n",
    "    #step = random.randint(0,len(list(asset_dict))-1) ## random_sample 3 coins\n",
    "    step = asset_dict.get(name)\n",
    "    axs.plot(asset_info_time[step][:10000],asset_info_targ[step][:10000], c=colors[step], label=inv_asset_dict.get(step))\n",
    "axs.set_xlabel('Timestamps')\n",
    "axs.set_ylabel('Res. Returns')\n",
    "axs.legend()\n",
    "#plt.tight_layout(pad=2)\n",
    "plt.show()\n",
    "#'''\n",
    "print('Done!')"
   ]
  },
  {
   "cell_type": "code",
   "execution_count": 38,
   "metadata": {
    "execution": {
     "iopub.execute_input": "2022-02-03T20:26:22.313530Z",
     "iopub.status.busy": "2022-02-03T20:26:22.312682Z",
     "iopub.status.idle": "2022-02-03T20:26:23.284265Z",
     "shell.execute_reply": "2022-02-03T20:26:23.283345Z",
     "shell.execute_reply.started": "2022-02-03T20:26:22.313493Z"
    }
   },
   "outputs": [],
   "source": [
    "print(df_temp.info())\n",
    "print('**'*40)\n",
    "print(df_temp.isnull().sum())\n",
    "print('**'*40)\n",
    "df_temp_2 = df_temp.fillna(method = 'ffill')\n",
    "print(df_temp_2.isnull().sum())"
   ]
  },
  {
   "cell_type": "markdown",
   "metadata": {},
   "source": [
    "### Better-Visualization (~preprocessed)"
   ]
  },
  {
   "cell_type": "code",
   "execution_count": 39,
   "metadata": {
    "execution": {
     "iopub.execute_input": "2022-02-03T20:26:23.285950Z",
     "iopub.status.busy": "2022-02-03T20:26:23.285681Z",
     "iopub.status.idle": "2022-02-03T20:26:27.439740Z",
     "shell.execute_reply": "2022-02-03T20:26:27.438338Z",
     "shell.execute_reply.started": "2022-02-03T20:26:23.285921Z"
    }
   },
   "outputs": [],
   "source": [
    "import numpy as np\n",
    "import gc\n",
    "\n",
    "df_sep_dict = {}\n",
    "\n",
    "print('df_temp_2_shape : ', df_temp_2.shape)\n",
    "\n",
    "for key in list(asset_dict):\n",
    "    asset_dict = {value:key for key, value in inv_asset_dict.items()}\n",
    "    mid = asset_dict[key]\n",
    "    df_mid = df_temp_2[df_temp_2['Asset_ID'] == mid] \n",
    "    df_mid.index = df_mid.timestamp\n",
    "    df_mid = df_mid.drop('timestamp', axis = 1)\n",
    "    print(key+' _before : ')\n",
    "    print((df_mid.index[1:] - df_mid.index[:-1]).value_counts().head())\n",
    "    df_mid = df_mid.reindex(range(df_mid.index[0], df_mid.index[-1]+60, 60), method = 'pad') ## gap filling in the continumm to a constant value\n",
    "    print()\n",
    "    print(key+' _after : ')\n",
    "    print((df_mid.index[1:] - df_mid.index[:-1]).value_counts().head())\n",
    "    df_sep_dict[key] = df_mid\n",
    "    print('**'*20)\n",
    "\n",
    "\n",
    "del df_train\n",
    "del df_temp    \n",
    "del df_temp_2\n",
    "gc.collect()\n"
   ]
  },
  {
   "cell_type": "code",
   "execution_count": 40,
   "metadata": {
    "execution": {
     "iopub.execute_input": "2022-02-03T20:26:27.444455Z",
     "iopub.status.busy": "2022-02-03T20:26:27.443626Z",
     "iopub.status.idle": "2022-02-03T20:26:39.316042Z",
     "shell.execute_reply": "2022-02-03T20:26:39.314933Z",
     "shell.execute_reply.started": "2022-02-03T20:26:27.444422Z"
    }
   },
   "outputs": [],
   "source": [
    "#'''\n",
    "fig, axs = plt.subplots(7,2, figsize=(24,18))\n",
    "\n",
    "req_name = ['Bitcoin', 'Ethereum','Dogecoin']\n",
    "for step, i in enumerate(df_asset_details['Asset_Name'].tolist()):\n",
    "    if step < 7:\n",
    "        axs[step,0].plot(df_sep_dict[i].index, df_sep_dict[i].Close, ',k')\n",
    "        axs[step,0].set_title(i + ' (Complete_train_space) ')\n",
    "        axs[step,0].set_xlabel('Time_Axis')\n",
    "        axs[step,0].set_ylabel('Closing_Price')\n",
    "    else:\n",
    "        axs[step-7,1].plot(df_sep_dict[i].index, df_sep_dict[i].Close, ',k')\n",
    "        axs[step-7,1].set_title(i + ' (Complete_train_space) ')\n",
    "        axs[step-7,1].set_xlabel('Time_Axis')\n",
    "        axs[step-7,1].set_ylabel('Closing_Price')\n",
    "\n",
    "plt.tight_layout(pad=2)\n",
    "plt.show()\n",
    "\n",
    "print()\n",
    "print('**'*20, 'VWAP_plot (on_complete_trian_space)', \"**\"*20)\n",
    "print()\n",
    "\n",
    "fig, axs = plt.subplots(7,2, figsize=(24,18))\n",
    "\n",
    "req_name = ['Bitcoin', 'Ethereum','Dogecoin']\n",
    "for step, i in enumerate(df_asset_details['Asset_Name'].tolist()):\n",
    "    if step < 7:\n",
    "        axs[step,0].plot(df_sep_dict[i].index, df_sep_dict[i].VWAP, 'b')\n",
    "        axs[step,0].set_title(i + ' (Complete_train_space) ')\n",
    "        axs[step,0].set_xlabel('Time_Axis')\n",
    "        axs[step,0].set_ylabel('Closing_Price')\n",
    "    else:\n",
    "        axs[step-7,1].plot(df_sep_dict[i].index, df_sep_dict[i].VWAP, 'b')\n",
    "        axs[step-7,1].set_title(i + ' (Complete_train_space) ')\n",
    "        axs[step-7,1].set_xlabel('Time_Axis')\n",
    "        axs[step-7,1].set_ylabel('Closing_Price')\n",
    "\n",
    "plt.tight_layout(pad=2)\n",
    "plt.show()\n",
    "#'''\n",
    "print('Done!')"
   ]
  },
  {
   "cell_type": "code",
   "execution_count": 41,
   "metadata": {
    "execution": {
     "iopub.execute_input": "2022-02-03T20:26:39.317579Z",
     "iopub.status.busy": "2022-02-03T20:26:39.317325Z",
     "iopub.status.idle": "2022-02-03T20:26:51.655416Z",
     "shell.execute_reply": "2022-02-03T20:26:51.654802Z",
     "shell.execute_reply.started": "2022-02-03T20:26:39.317553Z"
    }
   },
   "outputs": [],
   "source": [
    "import tensorflow as tf\n",
    "import warnings \n",
    "warnings.filterwarnings('ignore')\n",
    "\n",
    "tpu  = tf.distribute.cluster_resolver.TPUClusterResolver.connect()\n",
    "tpu_strat = tf.distribute.TPUStrategy(tpu)\n",
    "\n",
    "print(\"Number of accelerators: \", tpu_strat.num_replicas_in_sync)"
   ]
  },
  {
   "cell_type": "code",
   "execution_count": 42,
   "metadata": {
    "execution": {
     "iopub.execute_input": "2022-02-03T20:26:51.657050Z",
     "iopub.status.busy": "2022-02-03T20:26:51.656796Z",
     "iopub.status.idle": "2022-02-03T20:26:52.884100Z",
     "shell.execute_reply": "2022-02-03T20:26:52.883274Z",
     "shell.execute_reply.started": "2022-02-03T20:26:51.657024Z"
    }
   },
   "outputs": [],
   "source": [
    "import pickle\n",
    "\n",
    "''' Dumping the Data '''\n",
    "# dict_file = open('BTC_dict_data(last_btc_520k).pkl', 'wb')\n",
    "# pickle.dump(df_sep_dict['Bitcoin'], dict_file)\n",
    "# dict_file.close()\n",
    "\n",
    "dict_file = open('../input/520k-btc-only/BTC_dict_data(last_btc_520k).pkl', 'rb')\n",
    "df_btc = pickle.load(dict_file)\n",
    "dict_file.close()"
   ]
  },
  {
   "cell_type": "code",
   "execution_count": 43,
   "metadata": {
    "execution": {
     "iopub.execute_input": "2022-02-03T20:26:52.886032Z",
     "iopub.status.busy": "2022-02-03T20:26:52.885719Z",
     "iopub.status.idle": "2022-02-03T20:26:52.898578Z",
     "shell.execute_reply": "2022-02-03T20:26:52.897683Z",
     "shell.execute_reply.started": "2022-02-03T20:26:52.885992Z"
    }
   },
   "outputs": [],
   "source": [
    "import pandas as pd\n",
    "\n",
    "df_btc.index = pd.date_range('2020-12-28', periods = len(df_btc), freq='min') # use freq = 'min' to get minute data"
   ]
  },
  {
   "cell_type": "code",
   "execution_count": 44,
   "metadata": {
    "execution": {
     "iopub.execute_input": "2022-02-03T20:26:52.900682Z",
     "iopub.status.busy": "2022-02-03T20:26:52.900260Z",
     "iopub.status.idle": "2022-02-03T20:26:59.234641Z",
     "shell.execute_reply": "2022-02-03T20:26:59.233712Z",
     "shell.execute_reply.started": "2022-02-03T20:26:52.900635Z"
    }
   },
   "outputs": [],
   "source": [
    "df_btc.Close.plot(figsize=(16,12)) ## They daily update the data to recent one | last year data"
   ]
  },
  {
   "cell_type": "code",
   "execution_count": 45,
   "metadata": {
    "execution": {
     "iopub.execute_input": "2022-02-03T20:26:59.235991Z",
     "iopub.status.busy": "2022-02-03T20:26:59.235755Z",
     "iopub.status.idle": "2022-02-03T20:27:01.432631Z",
     "shell.execute_reply": "2022-02-03T20:27:01.431750Z",
     "shell.execute_reply.started": "2022-02-03T20:26:59.235947Z"
    }
   },
   "outputs": [],
   "source": [
    "import matplotlib.pyplot as plt\n",
    "df_btc.loc['2021-11-1':].Close.plot(figsize=(16,12)) #localising recent past \n",
    "df_btc.iloc[-50000:].Close.plot(figsize=(16,12), c='r', alpha=0.5)\n",
    "plt.show()"
   ]
  },
  {
   "cell_type": "code",
   "execution_count": 46,
   "metadata": {
    "execution": {
     "iopub.execute_input": "2022-02-03T20:27:01.433896Z",
     "iopub.status.busy": "2022-02-03T20:27:01.433694Z",
     "iopub.status.idle": "2022-02-03T20:27:01.470446Z",
     "shell.execute_reply": "2022-02-03T20:27:01.469869Z",
     "shell.execute_reply.started": "2022-02-03T20:27:01.433871Z"
    }
   },
   "outputs": [],
   "source": [
    "new_col_order = ['Count','Open','High','Low','Volume','VWAP','Target','Close']\n",
    "\n",
    "\n",
    "display(df_btc.head())\n",
    "df_btc = df_btc.reindex(columns = new_col_order)\n",
    "display(df_btc.head())\n"
   ]
  },
  {
   "cell_type": "code",
   "execution_count": 47,
   "metadata": {
    "execution": {
     "iopub.execute_input": "2022-02-03T20:27:01.471855Z",
     "iopub.status.busy": "2022-02-03T20:27:01.471303Z",
     "iopub.status.idle": "2022-02-03T20:27:02.324350Z",
     "shell.execute_reply": "2022-02-03T20:27:02.323474Z",
     "shell.execute_reply.started": "2022-02-03T20:27:01.471821Z"
    }
   },
   "outputs": [],
   "source": [
    "df_btc.iloc[-50000:].Close.plot(figsize=(10,8))"
   ]
  },
  {
   "cell_type": "code",
   "execution_count": 48,
   "metadata": {
    "execution": {
     "iopub.execute_input": "2022-02-03T20:27:02.328680Z",
     "iopub.status.busy": "2022-02-03T20:27:02.328423Z",
     "iopub.status.idle": "2022-02-03T20:27:59.153891Z",
     "shell.execute_reply": "2022-02-03T20:27:59.152912Z",
     "shell.execute_reply.started": "2022-02-03T20:27:02.328653Z"
    }
   },
   "outputs": [],
   "source": [
    "import tensorflow as tf\n",
    "import numpy as np\n",
    "import gc\n",
    "import math as mt\n",
    "\n",
    "seed = 28\n",
    "np.random.seed(seed)\n",
    "\n",
    "\n",
    "def Data_func(data, past, delay, minn, maxx = None, shuffle=False, batch_size=128, rate=6):\n",
    "    if maxx is None:\n",
    "        maxx = len(data) - delay -1\n",
    "    i = minn + past\n",
    "    batch_no = 1\n",
    "\n",
    "    while True:\n",
    "\n",
    "        if shuffle:\n",
    "            rows = np.random.randint(minn + past, maxx, size = batch_size)\n",
    "        else:\n",
    "            rows = np.arange(i, min(i + batch_size, maxx))\n",
    "        \n",
    "        i+=len(rows)\n",
    "        if i + batch_size > maxx: ## when you increase the past too much this statement gets executed at the first batch creation // add more data to overcome\n",
    "            break\n",
    "        \n",
    "        samples = np.zeros((len(rows), past // rate, data.shape[-1]))\n",
    "        targets = np.zeros((len(rows),))\n",
    "        cbase_preds = np.zeros((len(rows),))\n",
    "    \n",
    "        for j, row in enumerate(rows):\n",
    "            \n",
    "            indices = range(rows[j] - past, rows[j], rate) ## take every point\n",
    "            samples[j] = data[indices]\n",
    "            targets[j] = data[rows[j] + delay - 1][-1]\n",
    "       \n",
    "        if batch_no == 1:\n",
    "            print('im here')\n",
    "            new_sample = samples\n",
    "            new_targets = targets\n",
    "            print('Ini_samples: ', samples.shape, 'Ini_targets: ', targets.shape)\n",
    "        else:\n",
    "            new_sample = np.concatenate([new_sample, samples], axis=0)\n",
    "            new_targets = np.concatenate([new_targets, targets], axis=0)\n",
    "        batch_no+=1\n",
    "        \n",
    "    return new_sample, new_targets\n",
    "\n",
    "def Baseline_func(data, past, delay, minn, maxx = None , shuffle=False, batch_size=128, rate=6):\n",
    "    if maxx is None:\n",
    "        maxx = len(data) - delay -1\n",
    "    i = minn + past\n",
    "    batch_no = 1\n",
    "\n",
    "    while True:\n",
    "\n",
    "        if shuffle:\n",
    "            rows = np.random.randint(minn + past, maxx, size = batch_size)\n",
    "        else:\n",
    "            rows = np.arange(i, min(i + batch_size, maxx))\n",
    "        \n",
    "        i+=len(rows)\n",
    "        if i + batch_size > maxx:\n",
    "            break\n",
    "        \n",
    "        cbase_preds = np.zeros((len(rows),))\n",
    "        \n",
    "        for j, row in enumerate(rows):\n",
    "            cbase_preds[j] = data[rows[j]][-1]\n",
    "            \n",
    "        if batch_no == 1:\n",
    "            new_cbase_preds = cbase_preds\n",
    "            print('Ini_cbase_pred: ', new_cbase_preds.shape)\n",
    "        else:\n",
    "            new_cbase_preds = np.concatenate([new_cbase_preds, cbase_preds], axis=0)\n",
    "        batch_no+=1\n",
    "        \n",
    "    return new_cbase_preds\n",
    "\n",
    "\n",
    "\n",
    "#'''    \n",
    "x_train = df_btc.iloc[-50000:].copy() ## Localising training => prediction space\n",
    "\n",
    "print()\n",
    "x_train = x_train.to_numpy()\n",
    "\n",
    "print('BTC_train: ',x_train.shape)\n",
    "\n",
    "past = 360 ## ==>> looks !1 but 6hrs days back \n",
    "\n",
    "''' The problem statement involves being able to predict next 15 mins (very much possible!) residualized returns | NO DELAY '''\n",
    "''' Target 15 datapoints from current point'''\n",
    "delay = 0 ## Targeting after 15 mins | NOT correctt implementation \n",
    "\n",
    "train_split, test_split = 0.60, 0.25\n",
    "train_max = round(train_split * x_train.shape[0])\n",
    "val_max = (1-train_split)*x_train.shape[0]\n",
    "test_max = round(test_split*val_max)\n",
    "val_max = round(val_max - test_max)\n",
    "\n",
    "''' use batch_size = 15 in accordance to the problem statement'''\n",
    "bs = 15\n",
    "\n",
    "mean = x_train[:train_max].mean(axis = 0)\n",
    "x_train -= mean\n",
    "std = x_train[:train_max].std(axis = 0)\n",
    "x_train /= std\n",
    "\n",
    "val_steps =  (train_max+val_max) - (train_max+1) - past ## (-past) because no target values for last  720 points\n",
    "test_steps = (train_max+val_max+test_max)-(train_max+val_max+1) - past\n",
    "\n",
    "print('Train_Max: ', mt.floor(train_max),', Val_Max: ', mt.floor(val_max),', Test_Max: ', mt.floor(test_max))\n",
    "print()\n",
    "#'''        \n",
    "train_data = Data_func(x_train, past, delay, minn = 0, maxx = train_max - 1, batch_size=bs, shuffle=True, rate=5) ## sampling data every 5 minutes\n",
    "cbase_train_data = Baseline_func(x_train, past, delay, minn = 0, maxx = train_max - 1, batch_size=bs, shuffle=True, rate=5) ## sampling data every 5 minutes\n",
    "\n",
    "temp, _ = train_data\n",
    "print('--'*20)\n",
    "print('Done - Train_data: ', temp.shape)\n",
    "print('Cbase_data: ', cbase_train_data.shape)\n",
    "print('--'*20)\n",
    "val_data = Data_func(x_train, past, delay, minn = train_max+1, maxx = train_max + val_max - 1, batch_size=bs, rate=5)\n",
    "cbase_val_data = Baseline_func(x_train, past, delay, minn = train_max+1, maxx = train_max + val_max - 1, batch_size= bs, rate=5)\n",
    "\n",
    "temp, _ = val_data \n",
    "print('--'*20)\n",
    "print('Done - Val_data: ', temp.shape)\n",
    "print('Cbase_data: ', cbase_val_data.shape)\n",
    "print('--'*20)\n",
    "#'''\n",
    "test_data = Data_func(x_train, past, delay, minn = train_max+val_max+1, batch_size=bs, rate = 5)\n",
    "cbase_test_data = Baseline_func(x_train, past, delay, minn = train_max+val_max+1, batch_size= bs, rate = 5)\n",
    "\n",
    "temp, _ = test_data\n",
    "print('--'*20)\n",
    "print('Done - Test_data: ', temp.shape)\n",
    "print('Cbase_data: ', cbase_test_data.shape)\n",
    "print('--'*20)\n",
    "\n",
    "train_sample, train_label = train_data ## sample contains return \n",
    "val_sample, val_label = val_data\n",
    "test_sample, test_label = test_data\n",
    "\n",
    "del temp\n",
    "del train_data\n",
    "del val_data\n",
    "del test_data\n",
    "gc.collect()"
   ]
  },
  {
   "cell_type": "code",
   "execution_count": 49,
   "metadata": {
    "execution": {
     "iopub.execute_input": "2022-02-03T20:27:59.155493Z",
     "iopub.status.busy": "2022-02-03T20:27:59.155276Z",
     "iopub.status.idle": "2022-02-03T20:28:01.081271Z",
     "shell.execute_reply": "2022-02-03T20:28:01.080520Z",
     "shell.execute_reply.started": "2022-02-03T20:27:59.155469Z"
    }
   },
   "outputs": [],
   "source": [
    "import numpy as np\n",
    "import tensorflow as tf\n",
    "import gc\n",
    "\n",
    "print('train_sample: ', train_sample.shape, 'train_label: ', train_label.shape)\n",
    "tr_dataset = tf.data.Dataset.from_tensor_slices((train_sample, train_label)).repeat().batch(bs) #.cache().prefetch(tf.data.AUTOTUNE) ## use repeat() before batching while using TPU\n",
    "val_dataset = tf.data.Dataset.from_tensor_slices((val_sample, val_label)).repeat().batch(bs) #.cache().prefetch(tf.data.AUTOTUNE)\n",
    "test_dataset = tf.data.Dataset.from_tensor_slices((test_sample, test_label)).repeat().batch(bs) #.cache().prefetch(tf.data.AUTOTUNE)\n",
    "del train_sample \n",
    "del train_label\n",
    "gc.collect()"
   ]
  },
  {
   "cell_type": "code",
   "execution_count": 50,
   "metadata": {
    "execution": {
     "iopub.execute_input": "2022-02-03T20:28:01.082868Z",
     "iopub.status.busy": "2022-02-03T20:28:01.082492Z",
     "iopub.status.idle": "2022-02-03T20:28:01.112082Z",
     "shell.execute_reply": "2022-02-03T20:28:01.111107Z",
     "shell.execute_reply.started": "2022-02-03T20:28:01.082825Z"
    }
   },
   "outputs": [],
   "source": [
    "### CommonSense Model\n",
    "import numpy as np\n",
    "from statsmodels.tools.eval_measures import meanabs, rmse\n",
    "\n",
    "target_std = np.std(val_label)\n",
    "\n",
    "'''always predicting the current return to be the 15 min later return '''\n",
    "\n",
    "print('CommonSense - BaseLines - MAE -----')\n",
    "print()\n",
    "print('__Val__')\n",
    "## using present info (latest info) as our prediction after 'delay' mins\n",
    "print('MAE: ',meanabs(cbase_val_data, val_label))\n",
    "print('RMSE: ', rmse(cbase_val_data, val_label))\n",
    "print()\n",
    "print('__Test__')\n",
    "## using present info (latest info) as our prediction after 'delay' mins\n",
    "print('MAE: ',meanabs(cbase_test_data, test_label))\n",
    "print('RMSE: ', rmse(cbase_test_data, test_label))\n",
    "print()"
   ]
  },
  {
   "cell_type": "code",
   "execution_count": 51,
   "metadata": {
    "execution": {
     "iopub.execute_input": "2022-02-03T20:28:01.113570Z",
     "iopub.status.busy": "2022-02-03T20:28:01.113328Z",
     "iopub.status.idle": "2022-02-03T20:28:01.385525Z",
     "shell.execute_reply": "2022-02-03T20:28:01.384951Z",
     "shell.execute_reply.started": "2022-02-03T20:28:01.113542Z"
    }
   },
   "outputs": [],
   "source": [
    "import matplotlib.pyplot as plt\n",
    "import seaborn as sns\n",
    "\n",
    "sns.set_style('darkgrid')\n",
    "\n",
    "fig, axs = plt.subplots(1,1, figsize = (15,8))\n",
    "\n",
    "axs.plot(np.arange(0,1500), cbase_test_data[:1500], label = 'Common_Baseline') \n",
    "axs.plot(np.arange(0,1500), test_label[:1500], label = 'Real_Data')\n",
    "axs.legend()\n",
    "plt.show()"
   ]
  },
  {
   "cell_type": "markdown",
   "metadata": {},
   "source": [
    "### USE DNN and 1D_CNN + RNN"
   ]
  },
  {
   "cell_type": "code",
   "execution_count": null,
   "metadata": {
    "execution": {
     "iopub.execute_input": "2022-02-02T11:59:49.449572Z",
     "iopub.status.busy": "2022-02-02T11:59:49.449008Z",
     "iopub.status.idle": "2022-02-02T12:05:46.549982Z",
     "shell.execute_reply": "2022-02-02T12:05:46.548985Z",
     "shell.execute_reply.started": "2022-02-02T11:59:49.449529Z"
    }
   },
   "outputs": [],
   "source": [
    "dnn_model = tf.keras.models.Sequential([\n",
    "    tf.keras.layers.Input(shape=(72,8)),\n",
    "    tf.keras.layers.Dense(128, activation = 'linear'),\n",
    "    tf.keras.layers.Dense(256, activation='relu'),\n",
    "    tf.keras.layers.GlobalAveragePooling1D(),\n",
    "    tf.keras.layers.Dense(128, activation = 'relu'),\n",
    "    tf.keras.layers.Dense(1)\n",
    "    \n",
    "])\n",
    "es = tf.keras.callbacks.EarlyStopping(monitor='val_loss', patience=3)\n",
    "dnn_model.compile(optimizer='Adam', loss='mse', metrics=['mae'])\n",
    "dnn_model.fit(tr_dataset, epochs=50, validation_data = val_dataset, validation_steps = val_steps, steps_per_epoch =128, callbacks=[es])\n",
    "print('Training_Done ... ')"
   ]
  },
  {
   "cell_type": "code",
   "execution_count": 52,
   "metadata": {
    "execution": {
     "iopub.execute_input": "2022-02-03T20:28:01.389147Z",
     "iopub.status.busy": "2022-02-03T20:28:01.387902Z",
     "iopub.status.idle": "2022-02-03T20:28:01.643652Z",
     "shell.execute_reply": "2022-02-03T20:28:01.643051Z",
     "shell.execute_reply.started": "2022-02-03T20:28:01.389101Z"
    }
   },
   "outputs": [],
   "source": [
    "dnn_model = tf.keras.models.load_model('../input/all-models/dnn_model.h5')"
   ]
  },
  {
   "cell_type": "code",
   "execution_count": 53,
   "metadata": {
    "execution": {
     "iopub.execute_input": "2022-02-03T20:28:01.645462Z",
     "iopub.status.busy": "2022-02-03T20:28:01.645008Z",
     "iopub.status.idle": "2022-02-03T20:28:04.262959Z",
     "shell.execute_reply": "2022-02-03T20:28:04.262083Z",
     "shell.execute_reply.started": "2022-02-03T20:28:01.645420Z"
    }
   },
   "outputs": [],
   "source": [
    "print(dnn_model.evaluate(val_dataset, steps=128))\n",
    "print(dnn_model.evaluate(test_dataset, steps=128))"
   ]
  },
  {
   "cell_type": "code",
   "execution_count": 54,
   "metadata": {
    "execution": {
     "iopub.execute_input": "2022-02-03T20:28:04.264487Z",
     "iopub.status.busy": "2022-02-03T20:28:04.264248Z",
     "iopub.status.idle": "2022-02-03T20:28:04.704196Z",
     "shell.execute_reply": "2022-02-03T20:28:04.703241Z",
     "shell.execute_reply.started": "2022-02-03T20:28:04.264458Z"
    }
   },
   "outputs": [],
   "source": [
    "test_pred_data = [(sample, target) for sample, target in test_dataset.take(1)]\n",
    "test_sample, test_target = test_pred_data[0] ## next 32 data-points | accounting for 32 mins prediction\n",
    "x_lin = np.arange(0,test_target.shape[0]) \n",
    "def inv_norm(test_target):\n",
    "    test_target = np.ravel(test_target)\n",
    "    test_target = test_target * std[-1]\n",
    "    test_target = test_target + mean[-1]\n",
    "    return test_target\n",
    "\n",
    "test_pred = dnn_model.predict(test_sample)\n",
    "inv_test_pred = inv_norm(test_pred)\n",
    "# test_pred_parent = inv_stdn(parent_model.predict(test_sample))\n",
    "inv_test_target = inv_norm(test_target)\n",
    "\n",
    "fig = plt.figure(figsize=(15,8))\n",
    "plt.plot(x_lin, inv_test_target, 'k', label = 'test')\n",
    "plt.plot(x_lin, inv_test_pred, 'r',  label = 'dnn_model')\n",
    "# plt.plot(x_lin, test_pred_parent, 'g', label = 'parent_model')\n",
    "plt.legend()\n",
    "plt.show()"
   ]
  },
  {
   "cell_type": "code",
   "execution_count": 55,
   "metadata": {
    "execution": {
     "iopub.execute_input": "2022-02-03T20:28:04.705605Z",
     "iopub.status.busy": "2022-02-03T20:28:04.705383Z",
     "iopub.status.idle": "2022-02-03T20:28:04.714282Z",
     "shell.execute_reply": "2022-02-03T20:28:04.713409Z",
     "shell.execute_reply.started": "2022-02-03T20:28:04.705579Z"
    }
   },
   "outputs": [],
   "source": [
    "from statsmodels.tools.eval_measures import meanabs\n",
    "\n",
    "print('MAE: ', meanabs(inv_test_target, inv_test_pred))\n",
    "print('Mean_target: ', np.mean(inv_test_target))\n",
    "print('Mean_P_Error: ', (meanabs(inv_test_target, inv_test_pred) / np.mean(inv_test_target)) * 100, '%')"
   ]
  },
  {
   "cell_type": "code",
   "execution_count": null,
   "metadata": {
    "execution": {
     "iopub.execute_input": "2022-02-02T12:05:49.460050Z",
     "iopub.status.busy": "2022-02-02T12:05:49.459797Z",
     "iopub.status.idle": "2022-02-02T12:05:49.528366Z",
     "shell.execute_reply": "2022-02-02T12:05:49.527637Z",
     "shell.execute_reply.started": "2022-02-02T12:05:49.460020Z"
    }
   },
   "outputs": [],
   "source": [
    "dnn_model.save('./dnn_model.h5')"
   ]
  },
  {
   "cell_type": "code",
   "execution_count": null,
   "metadata": {},
   "outputs": [],
   "source": [
    "cnn_rnn_model = tf.keras.models.Sequential([\n",
    "    tf.keras.layers.Input(shape=(72,8)),\n",
    "    tf.keras.layers.Conv1D(128, 5),\n",
    "    tf.keras.layers.Dense(264, activation='relu'),\n",
    "    tf.keras.layers.GRU(264, return_sequences=True),\n",
    "    tf.keras.layers.GRU(264),\n",
    "    tf.keras.layers.Dense(128, activation='relu'),\n",
    "    tf.keras.layers.Dense(1)\n",
    "]) \n",
    "\n",
    "cnn_rnn_model.compile(optimizer='Adam', loss='mse', metrics=['mae'])\n",
    "cnn_rnn_model.summary()\n",
    "\n",
    "es = tf.keras.callbacks.EarlyStopping(patience=5)\n",
    "cnn_rnn_model.fit(tr_dataset, epochs=20, validation_data = val_dataset, validation_steps = val_steps, steps_per_epoch =128, callbacks=[es])\n",
    "print('Training_Done...')"
   ]
  },
  {
   "cell_type": "code",
   "execution_count": 56,
   "metadata": {
    "execution": {
     "iopub.execute_input": "2022-02-03T20:28:04.715609Z",
     "iopub.status.busy": "2022-02-03T20:28:04.715327Z",
     "iopub.status.idle": "2022-02-03T20:28:05.817867Z",
     "shell.execute_reply": "2022-02-03T20:28:05.816985Z",
     "shell.execute_reply.started": "2022-02-03T20:28:04.715581Z"
    }
   },
   "outputs": [],
   "source": [
    "cnn_rnn_model = tf.keras.models.load_model('../input/all-models/cnn_rnn_model.h5')"
   ]
  },
  {
   "cell_type": "code",
   "execution_count": 57,
   "metadata": {
    "execution": {
     "iopub.execute_input": "2022-02-03T20:28:05.821679Z",
     "iopub.status.busy": "2022-02-03T20:28:05.821418Z",
     "iopub.status.idle": "2022-02-03T20:28:15.026280Z",
     "shell.execute_reply": "2022-02-03T20:28:15.025369Z",
     "shell.execute_reply.started": "2022-02-03T20:28:05.821648Z"
    }
   },
   "outputs": [],
   "source": [
    "print(cnn_rnn_model.evaluate(val_dataset, steps=128))\n",
    "print(cnn_rnn_model.evaluate(test_dataset, steps=128))"
   ]
  },
  {
   "cell_type": "code",
   "execution_count": 58,
   "metadata": {
    "execution": {
     "iopub.execute_input": "2022-02-03T20:28:15.028034Z",
     "iopub.status.busy": "2022-02-03T20:28:15.027641Z",
     "iopub.status.idle": "2022-02-03T20:28:15.142517Z",
     "shell.execute_reply": "2022-02-03T20:28:15.141618Z",
     "shell.execute_reply.started": "2022-02-03T20:28:15.027994Z"
    }
   },
   "outputs": [],
   "source": [
    "cnn_rnn_model.save('./cnn_rnn_model.h5')\n",
    "print('saved cnn_rnn_model')"
   ]
  },
  {
   "cell_type": "code",
   "execution_count": 59,
   "metadata": {
    "execution": {
     "iopub.execute_input": "2022-02-03T20:28:15.143946Z",
     "iopub.status.busy": "2022-02-03T20:28:15.143628Z",
     "iopub.status.idle": "2022-02-03T20:28:16.089777Z",
     "shell.execute_reply": "2022-02-03T20:28:16.088865Z",
     "shell.execute_reply.started": "2022-02-03T20:28:15.143905Z"
    }
   },
   "outputs": [],
   "source": [
    "test_pred_data = [(sample, target) for sample, target in test_dataset.take(1)]\n",
    "test_sample, test_target = test_pred_data[0] ##after validation set => next 32 datapoints | accounting for next 32 min prediction\n",
    "x_lin = np.arange(0,test_target.shape[0]) \n",
    "def inv_norm(test_target):\n",
    "    test_target = np.ravel(test_target)\n",
    "    test_target = test_target * std[-1]\n",
    "    test_target = test_target + mean[-1]\n",
    "    return test_target\n",
    "\n",
    "test_pred = cnn_rnn_model.predict(test_sample)\n",
    "inv_test_pred = inv_norm(test_pred)\n",
    "# test_pred_parent = inv_stdn(parent_model.predict(test_sample))\n",
    "inv_test_target = inv_norm(test_target)\n",
    "\n",
    "fig = plt.figure(figsize=(15,8))\n",
    "plt.plot(x_lin, inv_test_target, 'k', label = 'test')\n",
    "plt.plot(x_lin, inv_test_pred, 'r',  label = 'dnn_model')\n",
    "# plt.plot(x_lin, test_pred_parent, 'g', label = 'parent_model')\n",
    "plt.legend()\n",
    "plt.show()"
   ]
  },
  {
   "cell_type": "code",
   "execution_count": 60,
   "metadata": {
    "execution": {
     "iopub.execute_input": "2022-02-03T20:28:16.091194Z",
     "iopub.status.busy": "2022-02-03T20:28:16.090923Z",
     "iopub.status.idle": "2022-02-03T20:28:16.097783Z",
     "shell.execute_reply": "2022-02-03T20:28:16.096875Z",
     "shell.execute_reply.started": "2022-02-03T20:28:16.091165Z"
    }
   },
   "outputs": [],
   "source": [
    "print('MAE: $ ' + str(meanabs(inv_test_target, inv_test_pred)))\n",
    "print('Mean_target: $ ' + str(np.mean(inv_test_target)))\n",
    "print('Mean_P_Error: ', (meanabs(inv_test_target, inv_test_pred) / np.mean(inv_test_target)) * 100, '%')"
   ]
  },
  {
   "cell_type": "markdown",
   "metadata": {},
   "source": [
    "#### EXtended PREDiction | For DNN Model"
   ]
  },
  {
   "cell_type": "code",
   "execution_count": 61,
   "metadata": {
    "execution": {
     "iopub.execute_input": "2022-02-03T20:28:16.099577Z",
     "iopub.status.busy": "2022-02-03T20:28:16.098785Z",
     "iopub.status.idle": "2022-02-03T20:28:16.130731Z",
     "shell.execute_reply": "2022-02-03T20:28:16.129861Z",
     "shell.execute_reply.started": "2022-02-03T20:28:16.099530Z"
    }
   },
   "outputs": [],
   "source": [
    "test_pred_data = [(sample, target) for sample, target in test_dataset.take(3)]\n",
    "\n",
    "test_list, target_list = test_pred_data[0]\n",
    "\n",
    "for x_test, x_test_target in test_pred_data[1:]:\n",
    "    test_list = tf.concat([test_list, x_test], axis=0)\n",
    "    target_list = tf.concat([target_list, x_test_target], axis=0)\n",
    "\n"
   ]
  },
  {
   "cell_type": "code",
   "execution_count": 62,
   "metadata": {
    "execution": {
     "iopub.execute_input": "2022-02-03T20:28:16.132072Z",
     "iopub.status.busy": "2022-02-03T20:28:16.131831Z",
     "iopub.status.idle": "2022-02-03T20:28:16.427141Z",
     "shell.execute_reply": "2022-02-03T20:28:16.426098Z",
     "shell.execute_reply.started": "2022-02-03T20:28:16.132039Z"
    }
   },
   "outputs": [],
   "source": [
    "x_lin = np.arange(0,target_list.shape[0]) \n",
    "test_pred = dnn_model.predict(test_list)\n",
    "\n",
    "print('Prediction_Shape: ', test_pred.shape,'Target_Shape: ',target_list.shape)\n",
    "\n",
    "def inv_norm(test_target):\n",
    "    test_target = np.ravel(test_target)\n",
    "    test_target = test_target * std[-1]\n",
    "    test_target = test_target + mean[-1]\n",
    "    return test_target\n",
    "\n",
    "inv_target_list = inv_norm(target_list)\n",
    "inv_test_pred = inv_norm(test_pred)\n",
    "\n",
    "fig = plt.figure(figsize=(15,8))\n",
    "plt.plot(x_lin, inv_target_list, 'k', label = 'test')\n",
    "plt.plot(x_lin, inv_test_pred, 'r',  label = 'dnn_model')\n",
    "# plt.plot(x_lin, test_pred_parent, 'g', label = 'parent_model')\n",
    "plt.legend()\n",
    "plt.show()"
   ]
  },
  {
   "cell_type": "code",
   "execution_count": 63,
   "metadata": {
    "execution": {
     "iopub.execute_input": "2022-02-03T20:28:16.428699Z",
     "iopub.status.busy": "2022-02-03T20:28:16.428464Z",
     "iopub.status.idle": "2022-02-03T20:28:16.435869Z",
     "shell.execute_reply": "2022-02-03T20:28:16.435270Z",
     "shell.execute_reply.started": "2022-02-03T20:28:16.428670Z"
    }
   },
   "outputs": [],
   "source": [
    "from statsmodels.tools.eval_measures import rmse\n",
    "\n",
    "print('MAE: $ ' + str(meanabs(inv_target_list, inv_test_pred)))\n",
    "print('Mean_target: $ ' + str(np.mean(inv_target_list)))\n",
    "print('Mean_P_Error: ', (meanabs(inv_target_list, inv_test_pred) / np.mean(inv_target_list)) * 100, '%')\n",
    "\n",
    "print('RMSE: $ ' + str(rmse(inv_target_list, inv_test_pred)))"
   ]
  },
  {
   "cell_type": "markdown",
   "metadata": {},
   "source": [
    "SESSION STOPPER"
   ]
  },
  {
   "cell_type": "code",
   "execution_count": null,
   "metadata": {
    "execution": {
     "iopub.status.busy": "2022-02-02T11:25:33.500670Z",
     "iopub.status.idle": "2022-02-02T11:25:33.501584Z",
     "shell.execute_reply": "2022-02-02T11:25:33.501307Z",
     "shell.execute_reply.started": "2022-02-02T11:25:33.501279Z"
    }
   },
   "outputs": [],
   "source": [
    "import time\n",
    "for i in range(50):\n",
    "    print('Time: ', i)\n",
    "    time.sleep(30*60)"
   ]
  },
  {
   "cell_type": "code",
   "execution_count": null,
   "metadata": {
    "execution": {
     "iopub.status.busy": "2021-12-13T03:42:20.033281Z",
     "iopub.status.idle": "2021-12-13T03:42:20.033932Z",
     "shell.execute_reply": "2021-12-13T03:42:20.033693Z",
     "shell.execute_reply.started": "2021-12-13T03:42:20.033666Z"
    }
   },
   "outputs": [],
   "source": [
    "'''import gresearch_crypto as gs\n",
    "env = gs.make_env()\n",
    "iter_test = env.iter_test()\n",
    "for (test_df, _) in iter_test:\n",
    "    sample_prediction_df['Target'] = 0  \n",
    "    env.predict(sample_prediction_df)'''"
   ]
  }
 ],
 "metadata": {
  "kernelspec": {
   "display_name": "Python 3",
   "language": "python",
   "name": "python3"
  },
  "language_info": {
   "codemirror_mode": {
    "name": "ipython",
    "version": 3
   },
   "file_extension": ".py",
   "mimetype": "text/x-python",
   "name": "python",
   "nbconvert_exporter": "python",
   "pygments_lexer": "ipython3",
   "version": "3.7.9"
  }
 },
 "nbformat": 4,
 "nbformat_minor": 4
}
